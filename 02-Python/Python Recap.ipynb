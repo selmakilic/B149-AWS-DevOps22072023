{
 "cells": [
  {
   "attachments": {},
   "cell_type": "markdown",
   "metadata": {},
   "source": [
    "### Loops in Python"
   ]
  },
  {
   "attachments": {},
   "cell_type": "markdown",
   "metadata": {},
   "source": [
    "### For Loop\n",
    "Bu döngü, bir list, tuple, string, ve ya range gibi bir dizi elemanlarını teker teker alır ve her bir eleman için belirtilen işlemleri yapar. Döngü, elemanları sırayla işler ve kod bloğunu her eleman için tekrarlar."
   ]
  },
  {
   "cell_type": "code",
   "execution_count": null,
   "metadata": {},
   "outputs": [],
   "source": [
    "for element in sequence :\n",
    "    # Code block to be repeated"
   ]
  },
  {
   "cell_type": "code",
   "execution_count": 3,
   "metadata": {},
   "outputs": [
    {
     "name": "stdout",
     "output_type": "stream",
     "text": [
      "1\n",
      "2\n",
      "3\n",
      "4\n",
      "5\n",
      "6\n",
      "7\n",
      "8\n",
      "9\n",
      "10\n"
     ]
    }
   ],
   "source": [
    "for element in range(1,11):\n",
    "    print(element)\n"
   ]
  },
  {
   "cell_type": "code",
   "execution_count": 4,
   "metadata": {},
   "outputs": [
    {
     "name": "stdout",
     "output_type": "stream",
     "text": [
      "Apple Faydalidir\n",
      "Orange Faydalidir\n",
      "Banana Faydalidir\n"
     ]
    }
   ],
   "source": [
    "fruits=[\"Apple\",\"Orange\",\"Banana\"]\n",
    "\n",
    "for meyve in fruits:\n",
    "    print(meyve,\"Faydalidir\")"
   ]
  },
  {
   "cell_type": "code",
   "execution_count": 5,
   "metadata": {},
   "outputs": [
    {
     "name": "stdout",
     "output_type": "stream",
     "text": [
      "[] Dont forget to buy Bread\n",
      "[] Dont forget to buy Elma\n",
      "[] Dont forget to buy et\n",
      "[] Dont forget to buy portakal\n",
      "[] Dont forget to buy sut\n"
     ]
    }
   ],
   "source": [
    "shoping_list=[\"Bread\",\"Elma\",\"et\",\"portakal\",\"sut\"]\n",
    "for z in shoping_list :\n",
    "    print(\"[] Dont forget to buy\",z)"
   ]
  },
  {
   "cell_type": "code",
   "execution_count": 24,
   "metadata": {},
   "outputs": [
    {
     "name": "stdout",
     "output_type": "stream",
     "text": [
      "1\n",
      "3\n",
      "6\n",
      "10\n",
      "15\n",
      "21\n",
      "28\n",
      "36\n",
      "Final answer: 36\n"
     ]
    }
   ],
   "source": [
    "# Summing numbers in a list\n",
    "numbers=[1,2,3,4,5,6,7,8]\n",
    "total=0   # initial value\n",
    "for num in numbers:\n",
    "    total +=num  # total = total + num   tatol_1=0+1 total=1+2   total=3+3\n",
    "    print(total)\n",
    "print(\"Final answer:\", total)"
   ]
  },
  {
   "cell_type": "code",
   "execution_count": 9,
   "metadata": {},
   "outputs": [
    {
     "name": "stdout",
     "output_type": "stream",
     "text": [
      "Final answer: 36\n"
     ]
    }
   ],
   "source": [
    "# Summing numbers in a list\n",
    "numbers=[1,2,3,4,5,6,7,8]\n",
    "total=0   # initial value\n",
    "for num in numbers:\n",
    "    total +=num  # total = total + num tatol_1=0+1 total=1+2   total=3+3\n",
    "    \n",
    "print(\"Final answer:\", total)"
   ]
  },
  {
   "cell_type": "code",
   "execution_count": 10,
   "metadata": {},
   "outputs": [
    {
     "data": {
      "text/plain": [
       "13"
      ]
     },
     "execution_count": 10,
     "metadata": {},
     "output_type": "execute_result"
    }
   ],
   "source": [
    "messsage=\"Hello, World!\"\n",
    "len(messsage)"
   ]
  },
  {
   "cell_type": "code",
   "execution_count": 15,
   "metadata": {},
   "outputs": [
    {
     "name": "stdout",
     "output_type": "stream",
     "text": [
      "13\n"
     ]
    }
   ],
   "source": [
    "# Counting the number of characters in a string\n",
    "messsage=\"Hello, World!\"\n",
    "hesapla=0\n",
    "for harf in messsage :\n",
    "    hesapla= hesapla + 1\n",
    "print(hesapla)"
   ]
  },
  {
   "cell_type": "code",
   "execution_count": 12,
   "metadata": {},
   "outputs": [
    {
     "name": "stdout",
     "output_type": "stream",
     "text": [
      "10\n"
     ]
    }
   ],
   "source": [
    "# Counting the number of characters in a string\n",
    "messsage=\"Hello, World!\"\n",
    "hesapla=0\n",
    "for harf in messsage :\n",
    "    if harf != ' ' and harf !=\",\" and harf !=\"!\":\n",
    "        hesapla= hesapla + 1\n",
    "print(hesapla)\n",
    "    "
   ]
  },
  {
   "cell_type": "code",
   "execution_count": 7,
   "metadata": {},
   "outputs": [
    {
     "name": "stdout",
     "output_type": "stream",
     "text": [
      "Student name: Ahmet Your grade is: 85\n",
      "Student name: Mehmet Your grade is: 92\n",
      "Student name: Faruk Your grade is: 100\n",
      "Student name: Yusuf Your grade is: 90\n",
      "Total: 367\n"
     ]
    }
   ],
   "source": [
    "# Iterating over a dictionary\n",
    "students_grade={\"Ahmet\": 85, \"Mehmet\": 92, \"Faruk\":100,\"Yusuf\":90}\n",
    "sum=0\n",
    "for name,grade in students_grade.items():\n",
    "    print(\"Student name:\", name , \"Your grade is:\" , grade)\n",
    "    sum= sum + grade\n",
    "print(\"Total:\",sum)"
   ]
  },
  {
   "attachments": {},
   "cell_type": "markdown",
   "metadata": {},
   "source": [
    "### Nested Loop (İç içe döngüler)"
   ]
  },
  {
   "cell_type": "code",
   "execution_count": 26,
   "metadata": {},
   "outputs": [
    {
     "name": "stdout",
     "output_type": "stream",
     "text": [
      "1\t2\t3\t4\t5\t6\t7\t8\t9\t10\t11\t12\t13\t14\t15\tMultiples of 1\n",
      "2\t4\t6\t8\t10\t12\t14\t16\t18\t20\t22\t24\t26\t28\t30\tMultiples of 2\n",
      "3\t6\t9\t12\t15\t18\t21\t24\t27\t30\t33\t36\t39\t42\t45\tMultiples of 3\n",
      "4\t8\t12\t16\t20\t24\t28\t32\t36\t40\t44\t48\t52\t56\t60\tMultiples of 4\n",
      "5\t10\t15\t20\t25\t30\t35\t40\t45\t50\t55\t60\t65\t70\t75\tMultiples of 5\n",
      "6\t12\t18\t24\t30\t36\t42\t48\t54\t60\t66\t72\t78\t84\t90\tMultiples of 6\n",
      "7\t14\t21\t28\t35\t42\t49\t56\t63\t70\t77\t84\t91\t98\t105\tMultiples of 7\n",
      "8\t16\t24\t32\t40\t48\t56\t64\t72\t80\t88\t96\t104\t112\t120\tMultiples of 8\n",
      "9\t18\t27\t36\t45\t54\t63\t72\t81\t90\t99\t108\t117\t126\t135\tMultiples of 9\n",
      "10\t20\t30\t40\t50\t60\t70\t80\t90\t100\t110\t120\t130\t140\t150\tMultiples of 10\n",
      "Your task is done\n"
     ]
    }
   ],
   "source": [
    "# Multiplication Table\n",
    "for x in range(1,11):\n",
    "    for y in range(1,16):\n",
    "        print(x*y, end='\\t')\n",
    "    print(\"Multiples of\",x ,end=\"\\n\")\n",
    "print(\"Your task is done\")"
   ]
  },
  {
   "attachments": {},
   "cell_type": "markdown",
   "metadata": {},
   "source": [
    "### break/continue "
   ]
  },
  {
   "cell_type": "code",
   "execution_count": 13,
   "metadata": {},
   "outputs": [
    {
     "name": "stdout",
     "output_type": "stream",
     "text": [
      "1\n",
      "2\n",
      "3\n",
      "4\n"
     ]
    }
   ],
   "source": [
    "for x in range(1,26):\n",
    "    if x==5:\n",
    "        break\n",
    "        \n",
    "    print(x)"
   ]
  },
  {
   "cell_type": "code",
   "execution_count": 30,
   "metadata": {},
   "outputs": [
    {
     "name": "stdout",
     "output_type": "stream",
     "text": [
      "1\n",
      "2\n",
      "3\n",
      "4\n",
      "6\n",
      "7\n",
      "8\n",
      "9\n",
      "11\n",
      "12\n",
      "13\n",
      "14\n",
      "16\n",
      "17\n",
      "18\n",
      "19\n",
      "21\n",
      "22\n",
      "23\n",
      "24\n"
     ]
    }
   ],
   "source": [
    "for x in range(1,26):\n",
    "    if x%5==0:\n",
    "        continue\n",
    "    print(x)"
   ]
  },
  {
   "cell_type": "code",
   "execution_count": 33,
   "metadata": {},
   "outputs": [
    {
     "name": "stdout",
     "output_type": "stream",
     "text": [
      "2\n",
      "3\n",
      "4\n"
     ]
    }
   ],
   "source": [
    "for x in range(2,26):\n",
    "    if x%5==0:\n",
    "        break\n",
    "    print(x)"
   ]
  },
  {
   "cell_type": "code",
   "execution_count": 25,
   "metadata": {},
   "outputs": [
    {
     "name": "stdout",
     "output_type": "stream",
     "text": [
      "This is composite number\n"
     ]
    }
   ],
   "source": [
    "# Prime number check:\n",
    "number =  215\n",
    "for x in range(2,number):\n",
    "    if number % x == 0 :\n",
    "        print(\"This is composite number\")\n",
    "        break\n",
    "else:\n",
    "    print(\"This number is prime\")\n",
    "\n",
    "\n"
   ]
  },
  {
   "cell_type": "code",
   "execution_count": 26,
   "metadata": {},
   "outputs": [
    {
     "name": "stdout",
     "output_type": "stream",
     "text": [
      "This is composite number\n",
      "The given number is divisible by: 29\n"
     ]
    }
   ],
   "source": [
    "# Prime number check:\n",
    "number = 10234655611\n",
    "for x in range(2,number):\n",
    "    if number % x == 0 :\n",
    "        print(\"This is composite number\")\n",
    "        print(\"The given number is divisible by:\",x)\n",
    "        break\n",
    "else:\n",
    "    print(\"This number is prime\")"
   ]
  },
  {
   "cell_type": "code",
   "execution_count": null,
   "metadata": {},
   "outputs": [],
   "source": []
  },
  {
   "cell_type": "code",
   "execution_count": null,
   "metadata": {},
   "outputs": [],
   "source": []
  },
  {
   "cell_type": "code",
   "execution_count": null,
   "metadata": {},
   "outputs": [],
   "source": []
  },
  {
   "cell_type": "code",
   "execution_count": null,
   "metadata": {},
   "outputs": [],
   "source": []
  },
  {
   "cell_type": "code",
   "execution_count": null,
   "metadata": {},
   "outputs": [],
   "source": []
  },
  {
   "cell_type": "code",
   "execution_count": null,
   "metadata": {},
   "outputs": [],
   "source": []
  },
  {
   "cell_type": "code",
   "execution_count": null,
   "metadata": {},
   "outputs": [],
   "source": []
  },
  {
   "cell_type": "code",
   "execution_count": null,
   "metadata": {},
   "outputs": [],
   "source": []
  },
  {
   "cell_type": "code",
   "execution_count": null,
   "metadata": {},
   "outputs": [],
   "source": []
  },
  {
   "cell_type": "code",
   "execution_count": null,
   "metadata": {},
   "outputs": [],
   "source": []
  },
  {
   "cell_type": "code",
   "execution_count": null,
   "metadata": {},
   "outputs": [],
   "source": []
  },
  {
   "cell_type": "code",
   "execution_count": null,
   "metadata": {},
   "outputs": [],
   "source": []
  },
  {
   "cell_type": "code",
   "execution_count": null,
   "metadata": {},
   "outputs": [],
   "source": []
  },
  {
   "cell_type": "code",
   "execution_count": null,
   "metadata": {},
   "outputs": [],
   "source": []
  },
  {
   "cell_type": "code",
   "execution_count": null,
   "metadata": {},
   "outputs": [],
   "source": []
  },
  {
   "cell_type": "code",
   "execution_count": null,
   "metadata": {},
   "outputs": [],
   "source": []
  },
  {
   "cell_type": "code",
   "execution_count": null,
   "metadata": {},
   "outputs": [],
   "source": []
  },
  {
   "cell_type": "code",
   "execution_count": null,
   "metadata": {},
   "outputs": [],
   "source": []
  }
 ],
 "metadata": {
  "kernelspec": {
   "display_name": "Python 3",
   "language": "python",
   "name": "python3"
  },
  "language_info": {
   "codemirror_mode": {
    "name": "ipython",
    "version": 3
   },
   "file_extension": ".py",
   "mimetype": "text/x-python",
   "name": "python",
   "nbconvert_exporter": "python",
   "pygments_lexer": "ipython3",
   "version": "3.11.4"
  },
  "orig_nbformat": 4
 },
 "nbformat": 4,
 "nbformat_minor": 2
}
