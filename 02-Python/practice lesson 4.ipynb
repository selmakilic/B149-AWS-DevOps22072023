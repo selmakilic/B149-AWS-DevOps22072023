{
 "cells": [
  {
   "attachments": {},
   "cell_type": "markdown",
   "metadata": {},
   "source": [
    "### Lists"
   ]
  },
  {
   "cell_type": "code",
   "execution_count": 2,
   "metadata": {},
   "outputs": [
    {
     "name": "stdout",
     "output_type": "stream",
     "text": [
      "<class 'list'>\n"
     ]
    }
   ],
   "source": [
    "fruits=[\"Apple\",\"Orange\",\"Mango\"]\n",
    "print(type(fruits))"
   ]
  },
  {
   "cell_type": "code",
   "execution_count": 3,
   "metadata": {},
   "outputs": [
    {
     "name": "stdout",
     "output_type": "stream",
     "text": [
      "<class 'list'>\n"
     ]
    }
   ],
   "source": [
    "mixed=[True,123,43.6,\"Ahmet\"]\n",
    "print(type(mixed))"
   ]
  },
  {
   "cell_type": "code",
   "execution_count": 5,
   "metadata": {},
   "outputs": [
    {
     "name": "stdout",
     "output_type": "stream",
     "text": [
      "True\n",
      "Ahmet\n"
     ]
    }
   ],
   "source": [
    "print(mixed[0])\n",
    "print(mixed[-1])\n"
   ]
  },
  {
   "cell_type": "code",
   "execution_count": 7,
   "metadata": {},
   "outputs": [
    {
     "name": "stdout",
     "output_type": "stream",
     "text": [
      "[True, 123, 43.6, 'Ahmet']\n",
      "[123, 43.6]\n"
     ]
    }
   ],
   "source": [
    "print(mixed[::])\n",
    "print(mixed[1:3:])"
   ]
  },
  {
   "cell_type": "code",
   "execution_count": 8,
   "metadata": {},
   "outputs": [
    {
     "name": "stdout",
     "output_type": "stream",
     "text": [
      "[4, 6, 8]\n"
     ]
    }
   ],
   "source": [
    "numbers=[1,2,3,4,5,6,7,8,9]\n",
    "print(numbers[3::2])"
   ]
  },
  {
   "cell_type": "code",
   "execution_count": 11,
   "metadata": {},
   "outputs": [
    {
     "name": "stdout",
     "output_type": "stream",
     "text": [
      "['abc', 56, 65, 'Ahmet', False, 123, True]\n",
      "[123, True, 123, True, 123, True]\n",
      "65\n"
     ]
    }
   ],
   "source": [
    "my_list=['abc',56,65,'Ahmet',False]\n",
    "small_list=[123,True]\n",
    "print(my_list + small_list)\n",
    "print(small_list*3)\n",
    "print(my_list[-3])"
   ]
  },
  {
   "cell_type": "code",
   "execution_count": 14,
   "metadata": {},
   "outputs": [
    {
     "name": "stdout",
     "output_type": "stream",
     "text": [
      "[1, 2, 3, 1, 2, 3, 1, 2, 3, 1, 2, 3, 4, 5, 6, 4, 5, 6]\n"
     ]
    }
   ],
   "source": [
    "list1=[1,2,3]\n",
    "list2=[4,5,6]\n",
    "list3=list1*4 + list2*2\n",
    "print (list3)"
   ]
  },
  {
   "cell_type": "code",
   "execution_count": 17,
   "metadata": {},
   "outputs": [
    {
     "name": "stdout",
     "output_type": "stream",
     "text": [
      "3\n",
      "[1, 2, 3, 4]\n",
      "<class 'list'>\n",
      "4\n"
     ]
    }
   ],
   "source": [
    "nested_list=[[1,2,3,4],[\"Ahmet\",\"Mehmet\"],[True,False]]\n",
    "print(len(nested_list))\n",
    "print(nested_list[0])\n",
    "print(type(nested_list[0]))\n",
    "print(len(nested_list[0]))"
   ]
  },
  {
   "cell_type": "code",
   "execution_count": 18,
   "metadata": {},
   "outputs": [
    {
     "name": "stdout",
     "output_type": "stream",
     "text": [
      "Mehmet\n"
     ]
    }
   ],
   "source": [
    "nested_list=[[1,2,3,4],[\"Ahmet\",\"Mehmet\"],[True,False]]\n",
    "\n",
    "print(nested_list[1][1])\n"
   ]
  },
  {
   "cell_type": "code",
   "execution_count": 20,
   "metadata": {},
   "outputs": [
    {
     "name": "stdout",
     "output_type": "stream",
     "text": [
      "4\n",
      "9\n"
     ]
    }
   ],
   "source": [
    "ic_ice_liste=[[1,2,3,4],[1,2,[\"ic ice oge\", 9,15]],[\"Ahmet\",\"Mehmet\"],[True,False]]\n",
    "print(len(ic_ice_liste))\n",
    "print(ic_ice_liste[1][2][1])"
   ]
  },
  {
   "cell_type": "code",
   "execution_count": 21,
   "metadata": {},
   "outputs": [
    {
     "name": "stdout",
     "output_type": "stream",
     "text": [
      "[1, 'This is changed', 3, 4, 5]\n"
     ]
    }
   ],
   "source": [
    "numbers=[1,2,3,4,5]\n",
    "numbers[1]=\"This is changed\"\n",
    "print(numbers)"
   ]
  },
  {
   "attachments": {},
   "cell_type": "markdown",
   "metadata": {},
   "source": [
    "### List Methods"
   ]
  },
  {
   "cell_type": "code",
   "execution_count": null,
   "metadata": {},
   "outputs": [],
   "source": [
    "# append() : listeye oge eklemek icin\n"
   ]
  },
  {
   "cell_type": "code",
   "execution_count": 30,
   "metadata": {},
   "outputs": [
    {
     "name": "stdout",
     "output_type": "stream",
     "text": [
      "[1, 2, 3, 4, 5, 'Bu eklendi']\n"
     ]
    }
   ],
   "source": [
    "numbers=[1,2,3,4,5]\n",
    "numbers.append(\"Bu eklendi\")\n",
    "print(numbers)"
   ]
  },
  {
   "cell_type": "code",
   "execution_count": 36,
   "metadata": {},
   "outputs": [],
   "source": [
    "mynumbers=[1,2,3]"
   ]
  },
  {
   "cell_type": "code",
   "execution_count": 38,
   "metadata": {},
   "outputs": [
    {
     "name": "stdout",
     "output_type": "stream",
     "text": [
      "[1, 2, 3, 'Bu eklendi', 'Bu eklendi']\n"
     ]
    }
   ],
   "source": [
    "mynumbers.append(\"Bu eklendi\") # 2 defa calistirildi\n",
    "print(mynumbers)"
   ]
  },
  {
   "cell_type": "code",
   "execution_count": 41,
   "metadata": {},
   "outputs": [
    {
     "name": "stdout",
     "output_type": "stream",
     "text": [
      "[1, 2, 3, 4, 5, 10, 20]\n"
     ]
    }
   ],
   "source": [
    "x=[1,2,3,4,5]\n",
    "x.append(10)\n",
    "x.append(20)\n",
    "print(x)"
   ]
  },
  {
   "cell_type": "code",
   "execution_count": 40,
   "metadata": {},
   "outputs": [
    {
     "name": "stdout",
     "output_type": "stream",
     "text": [
      "['Ahmet', 'Ben yeni geldim', 'Mehmet', 1, 2, 3]\n"
     ]
    }
   ],
   "source": [
    "# insert(index,element) :Listeye belirli bir konuma öğe ekleme\n",
    "\n",
    "names_numbers=['Ahmet',\"Mehmet\",1,2,3]\n",
    "names_numbers.insert(1,\"Ben yeni geldim\")\n",
    "print(names_numbers)\n"
   ]
  },
  {
   "cell_type": "code",
   "execution_count": 46,
   "metadata": {},
   "outputs": [
    {
     "name": "stdout",
     "output_type": "stream",
     "text": [
      "[100000, 23, 34, 45, 56]\n"
     ]
    }
   ],
   "source": [
    "y=[23,34,45,56]\n",
    "y.insert(0,100000)\n",
    "print(y)"
   ]
  },
  {
   "cell_type": "code",
   "execution_count": 48,
   "metadata": {},
   "outputs": [
    {
     "name": "stdout",
     "output_type": "stream",
     "text": [
      "[1, 2, 3, 4, 5, 6, 10, 11, 12]\n"
     ]
    }
   ],
   "source": [
    "# extend()\n",
    "z=[1,2,3] \n",
    "z.extend([4,5,6])\n",
    "z.extend([10,11,12])\n",
    "print(z)"
   ]
  },
  {
   "cell_type": "code",
   "execution_count": 55,
   "metadata": {},
   "outputs": [
    {
     "name": "stdout",
     "output_type": "stream",
     "text": [
      "[1, 4, 5, 2, 3, 4, 2]\n"
     ]
    }
   ],
   "source": [
    "# remove(element) , ilk gördüğü elemanı kaldırıyor\n",
    "r=[1,2,3,4,5,2,3,4,2]\n",
    "r.remove(2)\n",
    "r.remove(3)\n",
    "print(r)\n",
    "\n"
   ]
  },
  {
   "cell_type": "code",
   "execution_count": 60,
   "metadata": {},
   "outputs": [],
   "source": [
    "r=[1,2,3,4,5,2,3,4,2]\n",
    "\n"
   ]
  },
  {
   "cell_type": "code",
   "execution_count": 62,
   "metadata": {},
   "outputs": [
    {
     "name": "stdout",
     "output_type": "stream",
     "text": [
      "[1, 4, 5, 4, 2]\n"
     ]
    }
   ],
   "source": [
    "r.remove(2)     # iki defa calistirdik\n",
    "r.remove(3)\n",
    "print(r)"
   ]
  },
  {
   "cell_type": "code",
   "execution_count": 64,
   "metadata": {},
   "outputs": [
    {
     "name": "stdout",
     "output_type": "stream",
     "text": [
      "[1, 2, 'abc']\n"
     ]
    }
   ],
   "source": [
    "# pop(index)\n",
    "mylist1=[1,2,\"abc\",True]\n",
    "mylist1.pop()\n",
    "print(mylist1)"
   ]
  },
  {
   "cell_type": "code",
   "execution_count": 77,
   "metadata": {},
   "outputs": [
    {
     "name": "stdout",
     "output_type": "stream",
     "text": [
      "[1, 2, 3, 4, 5, 6, 7]\n"
     ]
    }
   ],
   "source": [
    "mylist2=[1,2,3,4,5,6,7]\n",
    "print(mylist2)"
   ]
  },
  {
   "cell_type": "code",
   "execution_count": 84,
   "metadata": {},
   "outputs": [
    {
     "name": "stdout",
     "output_type": "stream",
     "text": [
      "[]\n"
     ]
    }
   ],
   "source": [
    "mylist2.pop() # 7 defa\n",
    "print(mylist2)"
   ]
  },
  {
   "cell_type": "code",
   "execution_count": 87,
   "metadata": {},
   "outputs": [
    {
     "data": {
      "text/plain": [
       "'abc'"
      ]
     },
     "execution_count": 87,
     "metadata": {},
     "output_type": "execute_result"
    }
   ],
   "source": [
    "poplist=[1,2,True,\"abc\",\"efg\"]\n",
    "poplist.pop(3)\n"
   ]
  },
  {
   "cell_type": "code",
   "execution_count": 88,
   "metadata": {},
   "outputs": [
    {
     "name": "stdout",
     "output_type": "stream",
     "text": [
      "[1, 2, True, 'efg']\n"
     ]
    }
   ],
   "source": [
    "print(poplist)"
   ]
  },
  {
   "cell_type": "code",
   "execution_count": 89,
   "metadata": {},
   "outputs": [
    {
     "ename": "NameError",
     "evalue": "name 'x' is not defined",
     "output_type": "error",
     "traceback": [
      "\u001b[1;31m---------------------------------------------------------------------------\u001b[0m",
      "\u001b[1;31mNameError\u001b[0m                                 Traceback (most recent call last)",
      "Cell \u001b[1;32mIn[89], line 4\u001b[0m\n\u001b[0;32m      2\u001b[0m x\u001b[39m=\u001b[39m\u001b[39m\"\u001b[39m\u001b[39mAhmet\u001b[39m\u001b[39m\"\u001b[39m\n\u001b[0;32m      3\u001b[0m \u001b[39mdel\u001b[39;00m x\n\u001b[1;32m----> 4\u001b[0m \u001b[39mprint\u001b[39m(x)\n",
      "\u001b[1;31mNameError\u001b[0m: name 'x' is not defined"
     ]
    }
   ],
   "source": [
    "# Del\n",
    "x=\"Ahmet\"\n",
    "del x\n",
    "print(x)"
   ]
  },
  {
   "cell_type": "code",
   "execution_count": 90,
   "metadata": {},
   "outputs": [
    {
     "name": "stdout",
     "output_type": "stream",
     "text": [
      "['Furkan', 'Fatih', 'Erdem']\n"
     ]
    }
   ],
   "source": [
    "names=[\"Faruk\",'Furkan','Fatih',\"Erdem\"]\n",
    "del names[0]\n",
    "print(names)"
   ]
  },
  {
   "cell_type": "code",
   "execution_count": 91,
   "metadata": {},
   "outputs": [
    {
     "name": "stdout",
     "output_type": "stream",
     "text": [
      "['Fatih', 'Erdem']\n"
     ]
    }
   ],
   "source": [
    "names=[\"Faruk\",'Furkan','Fatih',\"Erdem\"]\n",
    "del names[0:2]\n",
    "print(names)"
   ]
  },
  {
   "cell_type": "code",
   "execution_count": 92,
   "metadata": {},
   "outputs": [
    {
     "name": "stdout",
     "output_type": "stream",
     "text": [
      "['Furkan', 'Erdem']\n"
     ]
    }
   ],
   "source": [
    "names=[\"Faruk\",'Furkan','Fatih',\"Erdem\"]\n",
    "del names[0::2]\n",
    "print(names)"
   ]
  },
  {
   "cell_type": "code",
   "execution_count": 93,
   "metadata": {},
   "outputs": [
    {
     "name": "stdout",
     "output_type": "stream",
     "text": [
      "['Furkan', 'Fatih']\n"
     ]
    }
   ],
   "source": [
    "names=[\"Faruk\",'Furkan','Fatih',\"Erdem\"]\n",
    "del names[0],names[-1]\n",
    "print(names)"
   ]
  },
  {
   "cell_type": "code",
   "execution_count": 94,
   "metadata": {},
   "outputs": [
    {
     "name": "stdout",
     "output_type": "stream",
     "text": [
      "[]\n"
     ]
    }
   ],
   "source": [
    "# clear()\n",
    "list10=[1,2,3,4]\n",
    "list10.clear()\n",
    "print(list10)"
   ]
  },
  {
   "cell_type": "code",
   "execution_count": 96,
   "metadata": {},
   "outputs": [
    {
     "name": "stdout",
     "output_type": "stream",
     "text": [
      "5\n"
     ]
    }
   ],
   "source": [
    "# index(element)\n",
    "names=[\"Faruk\",'Furkan','Fatih',\"Erdem\",1,2,3,True]\n",
    "myindex=names.index(2)\n",
    "print(myindex)"
   ]
  },
  {
   "cell_type": "code",
   "execution_count": 97,
   "metadata": {},
   "outputs": [
    {
     "name": "stdout",
     "output_type": "stream",
     "text": [
      "3\n"
     ]
    }
   ],
   "source": [
    "# count(element)\n",
    "abc=[1,2,2,2,3,4,5,5,5,6,7,5,7]\n",
    "mycount= abc.count(2)\n",
    "print(mycount)"
   ]
  },
  {
   "cell_type": "code",
   "execution_count": 98,
   "metadata": {},
   "outputs": [
    {
     "name": "stdout",
     "output_type": "stream",
     "text": [
      "[1, 2, 4, 5, 6, 20, 30]\n"
     ]
    }
   ],
   "source": [
    "# Sort()\n",
    "numbers=[1,20,2,30,4,6,5]\n",
    "numbers.sort()\n",
    "print(numbers)"
   ]
  },
  {
   "cell_type": "code",
   "execution_count": 101,
   "metadata": {},
   "outputs": [
    {
     "name": "stdout",
     "output_type": "stream",
     "text": [
      "[30, 20, 6, 5, 4, 2, 1]\n"
     ]
    }
   ],
   "source": [
    "numbers=[1,20,2,30,4,6,5]\n",
    "numbers.sort(reverse= True)\n",
    "print(numbers)"
   ]
  },
  {
   "cell_type": "code",
   "execution_count": 102,
   "metadata": {},
   "outputs": [
    {
     "name": "stdout",
     "output_type": "stream",
     "text": [
      "[5, 6, 4, 30, 2, 20, 1]\n"
     ]
    }
   ],
   "source": [
    "# reverse()\n",
    "numbers=[1,20,2,30,4,6,5]\n",
    "numbers.reverse()\n",
    "print(numbers)"
   ]
  },
  {
   "cell_type": "code",
   "execution_count": 104,
   "metadata": {},
   "outputs": [
    {
     "name": "stdout",
     "output_type": "stream",
     "text": [
      "HELLO\n",
      "H-E-L-L-O\n"
     ]
    }
   ],
   "source": [
    "# join()\n",
    "my_list=[\"H\",'E','L','L','O']\n",
    "sonuc1= \"\".join(my_list)\n",
    "sonuc2= \"-\".join(my_list)\n",
    "print (sonuc1)\n",
    "print (sonuc2)"
   ]
  },
  {
   "cell_type": "code",
   "execution_count": 105,
   "metadata": {},
   "outputs": [
    {
     "name": "stdout",
     "output_type": "stream",
     "text": [
      "Hello world Python is awesome!\n"
     ]
    }
   ],
   "source": [
    "my_list = [\"Hello\", \"world\", \"Python\", \"is\", \"awesome!\"]\n",
    "result = \" \".join(my_list)\n",
    "print(result)"
   ]
  },
  {
   "cell_type": "code",
   "execution_count": 107,
   "metadata": {},
   "outputs": [
    {
     "name": "stdout",
     "output_type": "stream",
     "text": [
      "True\n",
      "False\n"
     ]
    }
   ],
   "source": [
    "my_list = [\"Hello\", \"world\", \"Python\", \"is\", \"awesome!\"]\n",
    "print(\"Hello\" in my_list)\n",
    "print(123 in my_list)"
   ]
  },
  {
   "cell_type": "code",
   "execution_count": 108,
   "metadata": {},
   "outputs": [
    {
     "name": "stdout",
     "output_type": "stream",
     "text": [
      "min in list12: -10\n",
      "max in list12: 356\n"
     ]
    }
   ],
   "source": [
    "list12=[1,2,356,43,-10]\n",
    "\n",
    "print(\"min in list12:\", min(list12))\n",
    "print(\"max in list12:\", max(list12))"
   ]
  },
  {
   "cell_type": "code",
   "execution_count": null,
   "metadata": {},
   "outputs": [],
   "source": []
  },
  {
   "cell_type": "code",
   "execution_count": null,
   "metadata": {},
   "outputs": [],
   "source": []
  },
  {
   "cell_type": "code",
   "execution_count": null,
   "metadata": {},
   "outputs": [],
   "source": []
  },
  {
   "cell_type": "code",
   "execution_count": null,
   "metadata": {},
   "outputs": [],
   "source": []
  },
  {
   "cell_type": "code",
   "execution_count": null,
   "metadata": {},
   "outputs": [],
   "source": []
  },
  {
   "cell_type": "code",
   "execution_count": null,
   "metadata": {},
   "outputs": [],
   "source": []
  },
  {
   "cell_type": "code",
   "execution_count": null,
   "metadata": {},
   "outputs": [],
   "source": []
  },
  {
   "cell_type": "code",
   "execution_count": null,
   "metadata": {},
   "outputs": [],
   "source": []
  },
  {
   "cell_type": "code",
   "execution_count": null,
   "metadata": {},
   "outputs": [],
   "source": []
  },
  {
   "cell_type": "code",
   "execution_count": null,
   "metadata": {},
   "outputs": [],
   "source": []
  },
  {
   "cell_type": "code",
   "execution_count": null,
   "metadata": {},
   "outputs": [],
   "source": []
  },
  {
   "cell_type": "code",
   "execution_count": null,
   "metadata": {},
   "outputs": [],
   "source": []
  },
  {
   "cell_type": "code",
   "execution_count": null,
   "metadata": {},
   "outputs": [],
   "source": []
  },
  {
   "cell_type": "markdown",
   "metadata": {},
   "source": []
  }
 ],
 "metadata": {
  "kernelspec": {
   "display_name": "Python 3",
   "language": "python",
   "name": "python3"
  },
  "language_info": {
   "codemirror_mode": {
    "name": "ipython",
    "version": 3
   },
   "file_extension": ".py",
   "mimetype": "text/x-python",
   "name": "python",
   "nbconvert_exporter": "python",
   "pygments_lexer": "ipython3",
   "version": "3.11.3"
  },
  "orig_nbformat": 4
 },
 "nbformat": 4,
 "nbformat_minor": 2
}
