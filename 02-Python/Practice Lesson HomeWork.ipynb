{
 "cells": [
  {
   "attachments": {},
   "cell_type": "markdown",
   "metadata": {},
   "source": [
    "### 1. Soru:"
   ]
  },
  {
   "cell_type": "code",
   "execution_count": null,
   "metadata": {},
   "outputs": [],
   "source": [
    "# Ticket Pricing:\n",
    "# Yaşa ve öğrenci olup olmama durumuna göre bilet fiyatını belirleyen bir Python programı yazın:\n",
    "\n",
    "# Eğer yaş 12'den küçükse, bilet fiyatı 5 dolar.\n",
    "# Eğer yaş 18'den küçükse veya öğrenci ise, bilet fiyatı 10 dolar.\n",
    "# Diğer durumlarda, bilet fiyatı 15 dolar."
   ]
  },
  {
   "attachments": {},
   "cell_type": "markdown",
   "metadata": {},
   "source": [
    "### 2. Soru:"
   ]
  },
  {
   "cell_type": "code",
   "execution_count": null,
   "metadata": {},
   "outputs": [],
   "source": [
    "# Kullanıcıdan trafik lambası rengini alan ve aşağıdaki durumlara göre uygun mesajı veren bir Python programı yazın:\n",
    "\n",
    "# Eğer trafik lambası \"Red\" ise, \"Dur!\" yazdırın.\n",
    "# Eğer trafik lambası \"Yellow\" ise, \"Durmaya/harekete geçmeye hazırlan.\" yazdırın.\n",
    "# Eğer trafik lambası \"Green\" ise, \"Devam et.\" yazdırın.\n",
    "# Diğer durumlarda, \"Geçersiz trafik lambası rengi.\" yazdırın."
   ]
  },
  {
   "attachments": {},
   "cell_type": "markdown",
   "metadata": {},
   "source": [
    "### 3. Soru"
   ]
  },
  {
   "cell_type": "code",
   "execution_count": null,
   "metadata": {},
   "outputs": [],
   "source": [
    "### İndirim Hesaplama: ###\n",
    "#Toplam alışveriş tutarına bağlı olarak indirim ve indirimli tutarı belirleyen bir Python programı yazın:\n",
    "# Eğer toplam tutar 100 dolar veya daha fazlaysa, %10 indirim uygulayın.\n",
    "# Eğer toplam tutar 50 ile 100 dolar arasındaysa, %5 indirim uygulayın.\n",
    "# Toplam tutarı, indirimi ve indirimli tutarı yazdırın."
   ]
  },
  {
   "attachments": {},
   "cell_type": "markdown",
   "metadata": {},
   "source": [
    "### 4. Soru"
   ]
  },
  {
   "cell_type": "code",
   "execution_count": null,
   "metadata": {},
   "outputs": [],
   "source": [
    "# Grade Classification:\n",
    "# Bir öğrencinin puanına göre harf notunu belirleyen bir Python programı yazın:\n",
    "\n",
    "# Eğer puan 90 veya üzeriyse, \"Notunuz A.\" yazdırın.\n",
    "# Eğer puan 80 veya üzeriyse, \"Notunuz B.\" yazdırın.\n",
    "# Eğer puan 70 veya üzeriyse, \"Notunuz C.\" yazdırın.\n",
    "# Eğer puan 60 veya üzeriyse, \"Notunuz D.\" yazdırın.\n",
    "# Diğer durumlarda, \"Notunuz F.\" yazdırın."
   ]
  }
 ],
 "metadata": {
  "language_info": {
   "name": "python"
  },
  "orig_nbformat": 4
 },
 "nbformat": 4,
 "nbformat_minor": 2
}
