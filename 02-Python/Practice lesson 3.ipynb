{
 "cells": [
  {
   "attachments": {},
   "cell_type": "markdown",
   "metadata": {},
   "source": [
    "### String Methods\n"
   ]
  },
  {
   "cell_type": "code",
   "execution_count": 2,
   "metadata": {},
   "outputs": [
    {
     "name": "stdout",
     "output_type": "stream",
     "text": [
      "26\n"
     ]
    }
   ],
   "source": [
    "mystring=\"Python is a good Progarm 1\"\n",
    "print(len(mystring))"
   ]
  },
  {
   "attachments": {},
   "cell_type": "markdown",
   "metadata": {},
   "source": [
    "Indexing of a string"
   ]
  },
  {
   "cell_type": "code",
   "execution_count": 10,
   "metadata": {},
   "outputs": [
    {
     "name": "stdout",
     "output_type": "stream",
     "text": [
      "P\n",
      "P\n",
      "y\n",
      "1\n",
      "o\n",
      "1\n"
     ]
    }
   ],
   "source": [
    "print(mystring[0])\n",
    "print(mystring[-0])\n",
    "print(mystring[1])\n",
    "print(mystring[-1])\n",
    "print(mystring[-7])\n",
    "print(mystring[len(mystring)-1])\n"
   ]
  },
  {
   "cell_type": "code",
   "execution_count": 12,
   "metadata": {},
   "outputs": [
    {
     "name": "stdout",
     "output_type": "stream",
     "text": [
      "P t o\n"
     ]
    }
   ],
   "source": [
    "mystring=\"Python is a good Progarm 1\"\n",
    "print(mystring[0],mystring[2],mystring[4])"
   ]
  },
  {
   "cell_type": "code",
   "execution_count": 15,
   "metadata": {},
   "outputs": [
    {
     "name": "stdout",
     "output_type": "stream",
     "text": [
      "Pytho\n",
      "Pto\n",
      "Pto\n"
     ]
    }
   ],
   "source": [
    "# Slicing a string str[start:stop:step] Defult Values: str[0:len(str):1]\n",
    "print(mystring[0:5])\n",
    "print(mystring[0:5:2])\n",
    "print(mystring[0:6:2])"
   ]
  },
  {
   "cell_type": "code",
   "execution_count": 23,
   "metadata": {},
   "outputs": [
    {
     "name": "stdout",
     "output_type": "stream",
     "text": [
      "\n",
      "kigec\n"
     ]
    }
   ],
   "source": [
    "alphabet=\"abcdefghijklmnopqrstuvwxyz\"\n",
    "# print(len(alphabet))\n",
    "# print(alphabet[-1:-27:-1])\n",
    "# print(alphabet[10:0:-1])\n",
    "# print(alphabet[10:0:-2])\n",
    "print(alphabet[0:10:-2])\n",
    "print(alphabet[10:0:-2])"
   ]
  },
  {
   "cell_type": "code",
   "execution_count": 24,
   "metadata": {},
   "outputs": [
    {
     "name": "stdout",
     "output_type": "stream",
     "text": [
      "['a', 'b', 'c', 'd', 'e', 'f', 'g', 'h', 'i', 'j', 'k', 'l', 'm', 'n', 'o', 'p', 'q', 'r', 's', 't', 'u', 'v', 'w', 'x', 'y', 'z']\n"
     ]
    }
   ],
   "source": [
    "mylist=list(alphabet)\n",
    "print(mylist)"
   ]
  },
  {
   "cell_type": "code",
   "execution_count": 29,
   "metadata": {},
   "outputs": [
    {
     "name": "stdout",
     "output_type": "stream",
     "text": [
      "2023-06-07\n",
      "70-60-3202\n"
     ]
    }
   ],
   "source": [
    "timestamp=\"2023-06-07 09:10\"\n",
    "tarih=timestamp[:10:]\n",
    "ters=timestamp[9::-1]\n",
    "print(tarih)\n",
    "print(ters)"
   ]
  },
  {
   "cell_type": "code",
   "execution_count": 34,
   "metadata": {},
   "outputs": [
    {
     "name": "stdout",
     "output_type": "stream",
     "text": [
      "['Python', 'is', 'a', 'good', 'program']\n",
      "['Python', 'is a good program']\n"
     ]
    }
   ],
   "source": [
    "# Split string:  st.split()\n",
    "st=\"Python is a good program\"\n",
    "print(st.split())\n",
    "print(st.split( maxsplit=1))\n"
   ]
  },
  {
   "cell_type": "code",
   "execution_count": 42,
   "metadata": {},
   "outputs": [
    {
     "name": "stdout",
     "output_type": "stream",
     "text": [
      "['Apple,Orange,Banana,Elma,Greyfruit']\n",
      "['Apple', 'Orange', 'Banana', 'Elma', 'Greyfruit']\n",
      "['Apple', 'Orange,Banana,Elma,Greyfruit']\n",
      "['Apple', 'Orange', 'Banana,Elma,Greyfruit']\n"
     ]
    }
   ],
   "source": [
    "st1=\"Apple,Orange,Banana,Elma,Greyfruit\"\n",
    "print(st1.split())\n",
    "print(st1.split(sep=\",\"))\n",
    "print(st1.split(sep=\",\",maxsplit=1))\n",
    "print(st1.split(\",\",2))"
   ]
  },
  {
   "cell_type": "code",
   "execution_count": 46,
   "metadata": {},
   "outputs": [
    {
     "name": "stdout",
     "output_type": "stream",
     "text": [
      "These are my favourite fruits: Apple,Orange,Banana,Elma,Greyfruit\n"
     ]
    }
   ],
   "source": [
    "# Operators in string\n",
    "str1=\"Apple,Orange,Banana,Elma,Greyfruit\"\n",
    "str2=\"These are my favourite fruits: \"\n",
    "str3=str2 + str1\n",
    "print(str3)"
   ]
  },
  {
   "cell_type": "code",
   "execution_count": 49,
   "metadata": {},
   "outputs": [
    {
     "name": "stdout",
     "output_type": "stream",
     "text": [
      "Apple,Orange,Banana,Elma,GreyfruitApple,Orange,Banana,Elma,Greyfruit\n"
     ]
    }
   ],
   "source": [
    "print(str1*2,sep=\"\\n\")"
   ]
  },
  {
   "cell_type": "code",
   "execution_count": 52,
   "metadata": {},
   "outputs": [
    {
     "name": "stdout",
     "output_type": "stream",
     "text": [
      "Buyuk harfler ile cikti ver APPLE,ORANGE,BANANA,ELMA,GREYFRUIT\n",
      "Küçük harfler kullanarak çıktı apple,orange,banana,elma,greyfruit\n"
     ]
    }
   ],
   "source": [
    "# Upper Case:  str.upper()\n",
    "print(\"Buyuk harfler ile cikti ver\",str1.upper())\n",
    "\n",
    "# Lower Case: str.lower()\n",
    "print(\"Küçük harfler kullanarak çıktı\",str1.lower())\n"
   ]
  },
  {
   "cell_type": "code",
   "execution_count": 53,
   "metadata": {},
   "outputs": [
    {
     "name": "stdout",
     "output_type": "stream",
     "text": [
      "aPPLE,oRANGE,bANANA,eLMA,gREYFRUIT\n"
     ]
    }
   ],
   "source": [
    "# Swap Case: str.swapcase()\n",
    "print(str1.swapcase())"
   ]
  },
  {
   "cell_type": "code",
   "execution_count": 61,
   "metadata": {},
   "outputs": [
    {
     "name": "stdout",
     "output_type": "stream",
     "text": [
      "I am a good learner\n",
      "1i am a good learner\n"
     ]
    }
   ],
   "source": [
    "# Capitalize: str.capitalize() birinci haf buyuk harf, gerisi de kucuk harflar\n",
    "str4=\"i am a Good Learner\"\n",
    "print(str4.capitalize())\n",
    "print(\"1i am a Good Learner\".capitalize())"
   ]
  },
  {
   "cell_type": "code",
   "execution_count": 67,
   "metadata": {},
   "outputs": [
    {
     "name": "stdout",
     "output_type": "stream",
     "text": [
      "Murat is from Turkey. Murat is a good boy, Murat is 10 years old\n"
     ]
    }
   ],
   "source": [
    "# Replace: str.replace(old,new,count =-1)\n",
    "str5=\"Ahmet is from Turkey. Ahmet is a good boy, Ahmet is 10 years old\"\n",
    "# print(str5.replace(\"Ahmet\",\"Murat\",-1))\n",
    "# print(str5.replace(\"Ahmet\",\"Murat\",))\n",
    "# print(str5.replace(\"Ahmet\",\"Murat\",1))\n",
    "# print(str5.replace(\"Ahmet\",\"Murat\",2))\n",
    "print(str5.replace(\"Ahmet\",\"Murat\",10))"
   ]
  },
  {
   "cell_type": "code",
   "execution_count": 69,
   "metadata": {},
   "outputs": [
    {
     "name": "stdout",
     "output_type": "stream",
     "text": [
      "Ahmet-is-from-Turkey.-Ahmet-is-a-good-boy,-Ahmet-is-10-years-old\n",
      "Ahmet-is-from-Turkey. Ahmet is a good boy, Ahmet is 10 years old\n"
     ]
    }
   ],
   "source": [
    "print(str5.replace(\" \",\"-\",))\n",
    "print(str5.replace(\" \",\"-\",3))"
   ]
  },
  {
   "cell_type": "code",
   "execution_count": 70,
   "metadata": {},
   "outputs": [
    {
     "name": "stdout",
     "output_type": "stream",
     "text": [
      "AHMET IS FROM TURKEY. AHMET IS A GOOD BOY, AHMET IS 10 YEARS OLD\n"
     ]
    }
   ],
   "source": [
    "str6=str5.upper()\n",
    "print(str6)"
   ]
  },
  {
   "cell_type": "code",
   "execution_count": 71,
   "metadata": {},
   "outputs": [
    {
     "name": "stdout",
     "output_type": "stream",
     "text": [
      "ahmet is from turkey. ahmet is a good boy, ahmet is 10 years old\n"
     ]
    }
   ],
   "source": [
    "str7=str5.lower()\n",
    "print(str7)"
   ]
  },
  {
   "cell_type": "code",
   "execution_count": 72,
   "metadata": {},
   "outputs": [
    {
     "name": "stdout",
     "output_type": "stream",
     "text": [
      "aHMET IS FROM tURKEY. aHMET IS A GOOD BOY, aHMET IS 10 YEARS OLD\n"
     ]
    }
   ],
   "source": [
    "print(\"Ahmet is from Turkey. Ahmet is a good boy, Ahmet is 10 years old\".swapcase())"
   ]
  },
  {
   "cell_type": "code",
   "execution_count": 77,
   "metadata": {},
   "outputs": [
    {
     "name": "stdout",
     "output_type": "stream",
     "text": [
      "82\n",
      "65\n",
      "72\n",
      "77\n",
      "65\n",
      "84\n",
      "85\n",
      "76\n",
      "76\n",
      "65\n",
      "72\n"
     ]
    }
   ],
   "source": [
    "# ord( 1 Charcter)\n",
    "print(ord(\"R\"))\n",
    "print(ord(\"A\"))\n",
    "print(ord(\"H\"))\n",
    "print(ord(\"M\"))\n",
    "print(ord(\"A\"))\n",
    "print(ord(\"T\"))\n",
    "print(ord(\"U\"))\n",
    "print(ord(\"L\"))\n",
    "print(ord(\"L\"))\n",
    "print(ord(\"A\"))\n",
    "print(ord(\"H\"))\n",
    "\n"
   ]
  },
  {
   "cell_type": "code",
   "execution_count": 75,
   "metadata": {},
   "outputs": [
    {
     "name": "stdout",
     "output_type": "stream",
     "text": [
      "R\n"
     ]
    }
   ],
   "source": [
    "# chr(sayi)\n",
    "print(chr(82))"
   ]
  },
  {
   "cell_type": "code",
   "execution_count": 81,
   "metadata": {},
   "outputs": [
    {
     "name": "stdout",
     "output_type": "stream",
     "text": [
      "R A H A T U L L A H\n",
      "RAHATULLAH\n"
     ]
    }
   ],
   "source": [
    "Numbers=[82,65,72,77,65,84,85,76,76,65,72]\n",
    "print(chr(82),chr(65),chr(72),chr(65),chr(84),chr(85),chr(76),chr(76),chr(65),chr(72))\n",
    "print(chr(82),chr(65),chr(72),chr(65),chr(84),chr(85),chr(76),chr(76),chr(65),chr(72),sep=\"\")"
   ]
  },
  {
   "cell_type": "code",
   "execution_count": 83,
   "metadata": {},
   "outputs": [
    {
     "name": "stdout",
     "output_type": "stream",
     "text": [
      "RAHMATULLAH"
     ]
    }
   ],
   "source": [
    "Numbers=[82,65,72,77,65,84,85,76,76,65,72]\n",
    "for sayi in Numbers:\n",
    "    print(chr(sayi),end=\"\")"
   ]
  },
  {
   "cell_type": "code",
   "execution_count": null,
   "metadata": {},
   "outputs": [],
   "source": [
    "# Logic Operations: and , or , not"
   ]
  },
  {
   "cell_type": "code",
   "execution_count": 84,
   "metadata": {},
   "outputs": [
    {
     "name": "stdout",
     "output_type": "stream",
     "text": [
      "False\n"
     ]
    }
   ],
   "source": [
    "print(bool(\"A\"and 0))"
   ]
  },
  {
   "cell_type": "code",
   "execution_count": 85,
   "metadata": {},
   "outputs": [
    {
     "name": "stdout",
     "output_type": "stream",
     "text": [
      "True\n"
     ]
    }
   ],
   "source": [
    "print(bool(\"A\"and 1))"
   ]
  },
  {
   "cell_type": "code",
   "execution_count": 87,
   "metadata": {},
   "outputs": [
    {
     "name": "stdout",
     "output_type": "stream",
     "text": [
      "False\n",
      "True\n"
     ]
    }
   ],
   "source": [
    "print(bool(\"A\"and 0 and \" \"))\n",
    "print(bool(\"A\"and 20 and \" \"))"
   ]
  },
  {
   "cell_type": "code",
   "execution_count": 88,
   "metadata": {},
   "outputs": [
    {
     "name": "stdout",
     "output_type": "stream",
     "text": [
      "True\n"
     ]
    }
   ],
   "source": [
    "print(bool(\"A\"or 0 or \" \"))"
   ]
  },
  {
   "cell_type": "code",
   "execution_count": 90,
   "metadata": {},
   "outputs": [
    {
     "name": "stdout",
     "output_type": "stream",
     "text": [
      "True\n",
      "False\n"
     ]
    }
   ],
   "source": [
    "print(bool(\"A\"))\n",
    "print(bool(not \"A\"))"
   ]
  },
  {
   "cell_type": "code",
   "execution_count": 91,
   "metadata": {},
   "outputs": [
    {
     "name": "stdout",
     "output_type": "stream",
     "text": [
      "True\n"
     ]
    }
   ],
   "source": [
    "print(bool(\"A\"and not 0 and \" \"))"
   ]
  },
  {
   "attachments": {},
   "cell_type": "markdown",
   "metadata": {},
   "source": [
    "### if,elif,else"
   ]
  },
  {
   "cell_type": "code",
   "execution_count": 94,
   "metadata": {},
   "outputs": [
    {
     "name": "stdout",
     "output_type": "stream",
     "text": [
      "x is greater than 5\n"
     ]
    }
   ],
   "source": [
    "x=int(input())\n",
    "if x > 5:\n",
    "    print(\"x is greater than 5\")"
   ]
  },
  {
   "cell_type": "code",
   "execution_count": 95,
   "metadata": {},
   "outputs": [
    {
     "name": "stdout",
     "output_type": "stream",
     "text": [
      "x=  2\n",
      "x is not greater than 5\n"
     ]
    }
   ],
   "source": [
    "x=int(input())\n",
    "print(\"x= \",x)\n",
    "if x > 5:\n",
    "    print(\"x is greater than 5\")\n",
    "else:\n",
    "    print(\"x is not greater than 5\")"
   ]
  },
  {
   "cell_type": "code",
   "execution_count": 99,
   "metadata": {},
   "outputs": [
    {
     "name": "stdout",
     "output_type": "stream",
     "text": [
      "x=  0\n",
      "x is not in the given interval\n"
     ]
    }
   ],
   "source": [
    "x=int(input())\n",
    "print(\"x= \",x)\n",
    "if x > 5 or x<-5:\n",
    "    print(\"x is in the range  x>5 or x<-5\")\n",
    "else:\n",
    "    print(\"x is not in the given interval\")"
   ]
  },
  {
   "cell_type": "code",
   "execution_count": 100,
   "metadata": {},
   "outputs": [
    {
     "name": "stdout",
     "output_type": "stream",
     "text": [
      "6 çift sayıdır\n"
     ]
    }
   ],
   "source": [
    "# Check for Even or Odd: ( Çift veya Tek Kontrolü: )\n",
    "# Verilen bir sayının çift mi yoksa tek mi olduğunu kontrol eden bir Python programı yazın:\n",
    "x=int(input(\"bir sayı değeri giriniz\"))\n",
    "if x%2 == 0 :\n",
    "        print(x, \"çift sayıdır\")\n",
    "else :\n",
    "         print(x, \"tek sayıdır\")"
   ]
  },
  {
   "cell_type": "code",
   "execution_count": 102,
   "metadata": {},
   "outputs": [
    {
     "name": "stdout",
     "output_type": "stream",
     "text": [
      "girdiginz siftre: techpro \n",
      " Try again later\n"
     ]
    }
   ],
   "source": [
    "girdiginiz_sifre= input()\n",
    "password=\"Techpro123\"\n",
    "if girdiginiz_sifre == password:\n",
    "    print(\"Welcome\")\n",
    "else:\n",
    "    print(\"girdiginz siftre:\",girdiginiz_sifre, \"\\n\", \"Try again later\")"
   ]
  },
  {
   "cell_type": "code",
   "execution_count": 103,
   "metadata": {},
   "outputs": [
    {
     "name": "stdout",
     "output_type": "stream",
     "text": [
      "Your info is not correct\n"
     ]
    }
   ],
   "source": [
    "# Ask for username and password\n",
    "# if details are correct, say Welcome\n",
    "# otherwise: your username or password is incorrect\n",
    "\n",
    "username=\"Mehmet\"\n",
    "password=\"pasS\"\n",
    "enter_username= input(\"Enter your username\")\n",
    "enter_password=input(\"Enter your password\")\n",
    "\n",
    "if enter_username == username and enter_password == password:\n",
    "    print (\"Welcome Mr Mehmet\")\n",
    "else:\n",
    "    print(\"Your info is not correct\")\n"
   ]
  },
  {
   "cell_type": "code",
   "execution_count": 104,
   "metadata": {},
   "outputs": [
    {
     "name": "stdout",
     "output_type": "stream",
     "text": [
      "x=  0\n",
      " Your number is not positive not negative\n"
     ]
    }
   ],
   "source": [
    "x=int(input())\n",
    "print(\"x= \",x)\n",
    "if x > 0:\n",
    "    print(\"x is Positive Number\")\n",
    "elif x==0:\n",
    "    print(\" Your number is not positive not negative\")\n",
    "else:\n",
    "    print(\"x is negative\")"
   ]
  },
  {
   "cell_type": "code",
   "execution_count": 106,
   "metadata": {},
   "outputs": [
    {
     "name": "stdout",
     "output_type": "stream",
     "text": [
      "Hava ılıman.\n"
     ]
    }
   ],
   "source": [
    "# Temperature Check:\n",
    "# \"Kullanıcıdan bugünkü sıcaklık derecesini giriş olarak alan ve aşağıdaki koşullara dayalı olarak hava durumu açıklaması yapan bir Python programı yazın:\n",
    "# Eğer sıcaklık 30 derecenin üzerindeyse, \"Bugün hava sıcak!\"\n",
    "# Eğer sıcaklık 10 derecenin altındaysa, \"Bugün hava soğuk!\"\n",
    "# Diğer durumlarda, \"Hava ılıman.\" şeklinde bir çıktı verin.\n",
    "\n",
    "temperature = int(input(\"What is the degree of temperature today: \"))\n",
    "\n",
    "if temperature > 30:\n",
    "    print(\"Bugün hava sıcak\")\n",
    "elif temperature < 10:\n",
    "    print(\"Bugün hava soğuk!\")\n",
    "else:\n",
    "    print(\"Hava ılıman.\")\n"
   ]
  },
  {
   "cell_type": "code",
   "execution_count": 107,
   "metadata": {},
   "outputs": [
    {
     "name": "stdout",
     "output_type": "stream",
     "text": [
      "gunaydın\n"
     ]
    }
   ],
   "source": [
    "# Time-based Greetings: (Selamlaşma)\n",
    "# Saat bazlı selamlama işlevini yerine getiren bir Python programı yazın:\n",
    "\n",
    "# Eğer saat 9'dan önceyse, \"Günaydın!\" yazdırın.\n",
    "# Eğer saat 18'den önceyse, \"İyi Günler\"!\" yazdırın.\n",
    "# Eğer saat 21'den önceyse, \"İyi akşamlar!\" yazdırın.\n",
    "# Diğer durumlarda, \"İyi geceler!\" yazdırın.\n",
    "saat=int(input(\"saat gir\"))\n",
    "if  saat < 9:\n",
    "    print(\"gunaydın\")\n",
    "elif saat < 18:\n",
    "    print(\"iyi gunler\")\n",
    "elif saat < 21:\n",
    "    print(\"iyi akşamlar\")\n",
    "else:\n",
    "    print(\"iyi geceler\")\n"
   ]
  },
  {
   "cell_type": "code",
   "execution_count": null,
   "metadata": {},
   "outputs": [],
   "source": []
  },
  {
   "cell_type": "code",
   "execution_count": null,
   "metadata": {},
   "outputs": [],
   "source": []
  },
  {
   "cell_type": "code",
   "execution_count": null,
   "metadata": {},
   "outputs": [],
   "source": []
  },
  {
   "cell_type": "code",
   "execution_count": null,
   "metadata": {},
   "outputs": [],
   "source": []
  },
  {
   "cell_type": "code",
   "execution_count": null,
   "metadata": {},
   "outputs": [],
   "source": []
  },
  {
   "cell_type": "code",
   "execution_count": null,
   "metadata": {},
   "outputs": [],
   "source": []
  },
  {
   "cell_type": "code",
   "execution_count": null,
   "metadata": {},
   "outputs": [],
   "source": []
  },
  {
   "cell_type": "code",
   "execution_count": null,
   "metadata": {},
   "outputs": [],
   "source": []
  },
  {
   "cell_type": "code",
   "execution_count": null,
   "metadata": {},
   "outputs": [],
   "source": []
  },
  {
   "cell_type": "code",
   "execution_count": null,
   "metadata": {},
   "outputs": [],
   "source": []
  },
  {
   "cell_type": "code",
   "execution_count": null,
   "metadata": {},
   "outputs": [],
   "source": []
  },
  {
   "cell_type": "code",
   "execution_count": null,
   "metadata": {},
   "outputs": [],
   "source": []
  },
  {
   "cell_type": "code",
   "execution_count": null,
   "metadata": {},
   "outputs": [],
   "source": []
  },
  {
   "cell_type": "code",
   "execution_count": null,
   "metadata": {},
   "outputs": [],
   "source": []
  },
  {
   "cell_type": "code",
   "execution_count": null,
   "metadata": {},
   "outputs": [],
   "source": []
  },
  {
   "cell_type": "code",
   "execution_count": null,
   "metadata": {},
   "outputs": [],
   "source": []
  },
  {
   "cell_type": "code",
   "execution_count": null,
   "metadata": {},
   "outputs": [],
   "source": []
  },
  {
   "cell_type": "code",
   "execution_count": null,
   "metadata": {},
   "outputs": [],
   "source": []
  },
  {
   "cell_type": "code",
   "execution_count": null,
   "metadata": {},
   "outputs": [],
   "source": []
  }
 ],
 "metadata": {
  "kernelspec": {
   "display_name": "Python 3",
   "language": "python",
   "name": "python3"
  },
  "language_info": {
   "codemirror_mode": {
    "name": "ipython",
    "version": 3
   },
   "file_extension": ".py",
   "mimetype": "text/x-python",
   "name": "python",
   "nbconvert_exporter": "python",
   "pygments_lexer": "ipython3",
   "version": "3.11.3"
  },
  "orig_nbformat": 4
 },
 "nbformat": 4,
 "nbformat_minor": 2
}
