{
 "cells": [
  {
   "attachments": {},
   "cell_type": "markdown",
   "metadata": {},
   "source": [
    "### while loop:\n",
    "\n",
    "  * While döngüsü, belirtilen bir koşul doğru olduğu sürece bir kod bloğunu tekrarlamak için kullanılır.<br> Döngü içindeki kod bloğu, koşul yanlış olana kadar tekrar tekrar çalıştırılır.<br> Koşulun sonunda yanlış olması sağlanmalıdır; aksi takdirde döngü sonsuz bir şekilde çalışır."
   ]
  },
  {
   "cell_type": "code",
   "execution_count": null,
   "metadata": {},
   "outputs": [],
   "source": [
    "while condition:\n",
    "    # code block to be repeated"
   ]
  },
  {
   "cell_type": "code",
   "execution_count": 2,
   "metadata": {},
   "outputs": [
    {
     "name": "stdout",
     "output_type": "stream",
     "text": [
      "0\n",
      "1\n",
      "2\n",
      "3\n",
      "4\n"
     ]
    }
   ],
   "source": [
    "count=0\n",
    "while count < 5:\n",
    "    print(count)\n",
    "    count=count +1 # count +=1"
   ]
  },
  {
   "cell_type": "code",
   "execution_count": 3,
   "metadata": {},
   "outputs": [
    {
     "name": "stdout",
     "output_type": "stream",
     "text": [
      "1\n",
      "2\n",
      "3\n",
      "4\n",
      "5\n",
      "x is no longer less than 6\n"
     ]
    }
   ],
   "source": [
    "x=1  # initial value\n",
    "while x<6:\n",
    "    print(x)\n",
    "    x=x+1\n",
    "else:\n",
    "    print(\"x is no longer less than 6\")"
   ]
  },
  {
   "cell_type": "code",
   "execution_count": 4,
   "metadata": {},
   "outputs": [
    {
     "name": "stdout",
     "output_type": "stream",
     "text": [
      "2\n",
      "4\n",
      "6\n",
      "8\n",
      "10\n",
      "12\n",
      "14\n",
      "16\n",
      "18\n",
      "20\n"
     ]
    }
   ],
   "source": [
    "# print even numbers between 1 and 20:\n",
    "number=2\n",
    "while number <=20:\n",
    "    print(number)\n",
    "    number +=2\n",
    "\n"
   ]
  },
  {
   "cell_type": "code",
   "execution_count": 6,
   "metadata": {},
   "outputs": [
    {
     "name": "stdout",
     "output_type": "stream",
     "text": [
      "2\n",
      "4\n",
      "6\n",
      "8\n",
      "10\n",
      "12\n",
      "14\n",
      "16\n",
      "18\n",
      "20\n",
      "22\n"
     ]
    }
   ],
   "source": [
    "# print even numbers between 1 and 20:\n",
    "number=0\n",
    "while number <=20:\n",
    "    number +=2\n",
    "    print(number)\n",
    "    \n"
   ]
  },
  {
   "cell_type": "code",
   "execution_count": 9,
   "metadata": {},
   "outputs": [
    {
     "name": "stdout",
     "output_type": "stream",
     "text": [
      "2\n",
      "4\n",
      "6\n",
      "8\n"
     ]
    }
   ],
   "source": [
    "number=0\n",
    "while number <=20:\n",
    "    number +=2\n",
    "    if number == 10:\n",
    "       break\n",
    "    print(number)"
   ]
  },
  {
   "cell_type": "code",
   "execution_count": 10,
   "metadata": {},
   "outputs": [
    {
     "name": "stdout",
     "output_type": "stream",
     "text": [
      "2\n",
      "4\n",
      "6\n",
      "8\n",
      "12\n",
      "14\n",
      "16\n",
      "18\n",
      "20\n",
      "22\n"
     ]
    }
   ],
   "source": [
    "number=0\n",
    "while number <=20:\n",
    "    number +=2\n",
    "    if number == 10:\n",
    "       continue\n",
    "    print(number)"
   ]
  },
  {
   "cell_type": "code",
   "execution_count": 14,
   "metadata": {},
   "outputs": [
    {
     "name": "stdout",
     "output_type": "stream",
     "text": [
      "No of iteration: 1 Toplam: 1\n",
      "No of iteration: 2 Toplam: 3\n",
      "No of iteration: 3 Toplam: 6\n",
      "No of iteration: 4 Toplam: 10\n",
      "No of iteration: 5 Toplam: 15\n",
      "No of iteration: 6 Toplam: 21\n",
      "No of iteration: 7 Toplam: 28\n",
      "No of iteration: 8 Toplam: 36\n",
      "No of iteration: 9 Toplam: 45\n",
      "No of iteration: 10 Toplam: 55\n",
      "Final sum: 55\n"
     ]
    }
   ],
   "source": [
    "# Calculate the sum of numbers less than or equal to 10, starting from 1\n",
    "number=1\n",
    "toplam=0\n",
    "while number <= 10:\n",
    "    toplam= toplam + number\n",
    "    number= number + 1  # number +=1\n",
    "    print(\"No of iteration:\",number-1,\"Toplam:\",toplam)\n",
    "print(\"Final sum:\", toplam)\n"
   ]
  },
  {
   "cell_type": "code",
   "execution_count": 16,
   "metadata": {},
   "outputs": [
    {
     "name": "stdout",
     "output_type": "stream",
     "text": [
      "Average: 13.9\n"
     ]
    }
   ],
   "source": [
    "numbers=[4,5,6,7,8,9,10,20,30,40]\n",
    "total=0\n",
    "count=0\n",
    "while count <len(numbers):\n",
    "    total=total + numbers[count]\n",
    "    count= count + 1\n",
    "average = total / len(numbers)\n",
    "print(\"Average:\", average)"
   ]
  },
  {
   "cell_type": "code",
   "execution_count": 17,
   "metadata": {},
   "outputs": [
    {
     "name": "stdout",
     "output_type": "stream",
     "text": [
      "Try again\n",
      "Try again\n",
      "Try again\n",
      "Try again\n",
      "Welcome\n"
     ]
    }
   ],
   "source": [
    "# Password Authuntication\n",
    "password=\"\"\n",
    "while password !=\"techpro\" :\n",
    "    password = input(\"Enter your password\")\n",
    "    if password != \"techpro\":\n",
    "        print(\"Try again\")\n",
    "else:\n",
    "    print(\"Welcome\")"
   ]
  },
  {
   "cell_type": "code",
   "execution_count": 22,
   "metadata": {},
   "outputs": [
    {
     "name": "stdout",
     "output_type": "stream",
     "text": [
      "Try again\n",
      "Welcome!\n",
      "Welcome!\n"
     ]
    }
   ],
   "source": [
    "sayac =0 \n",
    "password=\"\"\n",
    "while password !=\"techpro\" :\n",
    "    password = input(\"Enter your password\")\n",
    "    if password != \"techpro\":\n",
    "        print(\"Try again\")\n",
    "    sayac = sayac + 1\n",
    "    if sayac == 3:\n",
    "        print(\"Too many attempts,Access denied \")\n",
    "        break\n",
    "else:\n",
    "    print(\"Welcome!\")"
   ]
  },
  {
   "cell_type": "code",
   "execution_count": 23,
   "metadata": {},
   "outputs": [
    {
     "name": "stdout",
     "output_type": "stream",
     "text": [
      "Try again\n",
      "Try again\n",
      "Welcome!\n"
     ]
    }
   ],
   "source": [
    "# Password authuntication last version\n",
    "sayac =0 \n",
    "password=\"\"\n",
    "while password !=\"techpro\" :\n",
    "    password = input(\"Enter your password\")\n",
    "    if password != \"techpro\":\n",
    "        print(\"Try again\")\n",
    "    sayac = sayac + 1\n",
    "    if sayac == 3 and password !=\"techpro\":\n",
    "        print(\"Too many attempts,Access denied \")\n",
    "        break\n",
    "    elif password==\"techpro\":\n",
    "        print(\"Welcome!\")\n",
    "        break"
   ]
  },
  {
   "attachments": {},
   "cell_type": "markdown",
   "metadata": {},
   "source": [
    "### Function\n",
    "\n",
    "* Python'da bir fonksiyon, belirli bir görevi yerine getiren tekrar kullanılabilir bir kod bloğudur.<br> Kodunuzu düzenlemeye ve modüler hale getirmeye yardımcı olur, böylece daha okunabilir, anlaşılır ve bakımı kolay hale gelir."
   ]
  },
  {
   "cell_type": "code",
   "execution_count": null,
   "metadata": {},
   "outputs": [],
   "source": [
    "def function_name(parameters):\n",
    "    # Code block or statements\n",
    "    return result\n"
   ]
  },
  {
   "cell_type": "code",
   "execution_count": null,
   "metadata": {},
   "outputs": [],
   "source": [
    "# \"def\" anahtar kelimesi bir fonksiyonu tanımlamak için kullanılır.\n",
    "# \"function_name\", fonksiyonun adıdır ve değişkenlere benzer şekilde adlandırma kurallarını takip eder.\n",
    "# Parametreler (isteğe bağlı) parantez içinde fonksiyona girişleri temsil eder. Sıfır veya daha fazla parametreye sahip olabilirsiniz.\n",
    "# Fonksiyonun davranışını tanımlayan kod bloğu girintilidir ve fonksiyonun içindeki ifadeleri içerir.\n",
    "# İsteğe bağlı olarak \"return\" ifadesini kullanarak fonksiyonun çıktısını belirtebilirsiniz.\n",
    "# Eğer return ifadesi kullanılmazsa, fonksiyon varsayılan olarak None değerini döndürür."
   ]
  },
  {
   "cell_type": "code",
   "execution_count": 24,
   "metadata": {},
   "outputs": [
    {
     "data": {
      "text/plain": [
       "'Hello World!'"
      ]
     },
     "execution_count": 24,
     "metadata": {},
     "output_type": "execute_result"
    }
   ],
   "source": [
    "def greet():\n",
    "    return \"Hello World!\"\n",
    "\n",
    "greet()"
   ]
  },
  {
   "cell_type": "code",
   "execution_count": 26,
   "metadata": {},
   "outputs": [
    {
     "ename": "TypeError",
     "evalue": "greet() takes 0 positional arguments but 1 was given",
     "output_type": "error",
     "traceback": [
      "\u001b[1;31m---------------------------------------------------------------------------\u001b[0m",
      "\u001b[1;31mTypeError\u001b[0m                                 Traceback (most recent call last)",
      "Cell \u001b[1;32mIn[26], line 1\u001b[0m\n\u001b[1;32m----> 1\u001b[0m greet(\u001b[39m\"\u001b[39;49m\u001b[39mAhmet\u001b[39;49m\u001b[39m\"\u001b[39;49m)\n",
      "\u001b[1;31mTypeError\u001b[0m: greet() takes 0 positional arguments but 1 was given"
     ]
    }
   ],
   "source": [
    "greet(\"Ahmet\")"
   ]
  },
  {
   "cell_type": "code",
   "execution_count": 27,
   "metadata": {},
   "outputs": [
    {
     "data": {
      "text/plain": [
       "'Hello World!'"
      ]
     },
     "execution_count": 27,
     "metadata": {},
     "output_type": "execute_result"
    }
   ],
   "source": [
    "greet()"
   ]
  },
  {
   "cell_type": "code",
   "execution_count": 31,
   "metadata": {},
   "outputs": [
    {
     "name": "stdout",
     "output_type": "stream",
     "text": [
      "Hello Ahmet !\n"
     ]
    }
   ],
   "source": [
    "def selam(name):\n",
    "    print (\"Hello\", name , \"!\")\n",
    "\n",
    "selam(\"Ahmet\")"
   ]
  },
  {
   "cell_type": "code",
   "execution_count": 32,
   "metadata": {},
   "outputs": [
    {
     "name": "stdout",
     "output_type": "stream",
     "text": [
      "Hello Yusuf !\n"
     ]
    }
   ],
   "source": [
    "selam(\"Yusuf\")"
   ]
  },
  {
   "cell_type": "code",
   "execution_count": 33,
   "metadata": {},
   "outputs": [
    {
     "name": "stdout",
     "output_type": "stream",
     "text": [
      "Hello Erdem  !\n"
     ]
    }
   ],
   "source": [
    "selam(\"Erdem \")"
   ]
  },
  {
   "cell_type": "code",
   "execution_count": 34,
   "metadata": {},
   "outputs": [
    {
     "ename": "TypeError",
     "evalue": "selam() missing 1 required positional argument: 'name'",
     "output_type": "error",
     "traceback": [
      "\u001b[1;31m---------------------------------------------------------------------------\u001b[0m",
      "\u001b[1;31mTypeError\u001b[0m                                 Traceback (most recent call last)",
      "Cell \u001b[1;32mIn[34], line 1\u001b[0m\n\u001b[1;32m----> 1\u001b[0m selam()\n",
      "\u001b[1;31mTypeError\u001b[0m: selam() missing 1 required positional argument: 'name'"
     ]
    }
   ],
   "source": [
    "selam()"
   ]
  },
  {
   "cell_type": "code",
   "execution_count": 35,
   "metadata": {},
   "outputs": [
    {
     "name": "stdout",
     "output_type": "stream",
     "text": [
      "Hello Python !\n"
     ]
    }
   ],
   "source": [
    "# function with default value\n",
    "def selam(name=\"Python\"):\n",
    "    print (\"Hello\", name , \"!\")\n",
    "\n",
    "selam()"
   ]
  },
  {
   "cell_type": "code",
   "execution_count": 37,
   "metadata": {},
   "outputs": [
    {
     "name": "stdout",
     "output_type": "stream",
     "text": [
      "Hello Kenan !\n",
      "Hello Python !\n"
     ]
    }
   ],
   "source": [
    "selam(\"Kenan\")\n",
    "selam()"
   ]
  },
  {
   "cell_type": "code",
   "execution_count": 38,
   "metadata": {},
   "outputs": [],
   "source": [
    "def add_numbers(a,b):\n",
    "    return a+b"
   ]
  },
  {
   "cell_type": "code",
   "execution_count": 40,
   "metadata": {},
   "outputs": [
    {
     "data": {
      "text/plain": [
       "135"
      ]
     },
     "execution_count": 40,
     "metadata": {},
     "output_type": "execute_result"
    }
   ],
   "source": [
    "add_numbers(5,10) + add_numbers(20,100)"
   ]
  },
  {
   "cell_type": "code",
   "execution_count": 41,
   "metadata": {},
   "outputs": [],
   "source": [
    "def add_num(a,b):\n",
    "    print(a+b) "
   ]
  },
  {
   "cell_type": "code",
   "execution_count": 42,
   "metadata": {},
   "outputs": [
    {
     "name": "stdout",
     "output_type": "stream",
     "text": [
      "15\n",
      "120\n"
     ]
    },
    {
     "ename": "TypeError",
     "evalue": "unsupported operand type(s) for +: 'NoneType' and 'NoneType'",
     "output_type": "error",
     "traceback": [
      "\u001b[1;31m---------------------------------------------------------------------------\u001b[0m",
      "\u001b[1;31mTypeError\u001b[0m                                 Traceback (most recent call last)",
      "Cell \u001b[1;32mIn[42], line 1\u001b[0m\n\u001b[1;32m----> 1\u001b[0m add_num(\u001b[39m5\u001b[39;49m,\u001b[39m10\u001b[39;49m) \u001b[39m+\u001b[39;49m add_num(\u001b[39m20\u001b[39;49m,\u001b[39m100\u001b[39;49m)\n",
      "\u001b[1;31mTypeError\u001b[0m: unsupported operand type(s) for +: 'NoneType' and 'NoneType'"
     ]
    }
   ],
   "source": [
    "add_num(5,10) + add_num(20,100)"
   ]
  },
  {
   "cell_type": "code",
   "execution_count": 45,
   "metadata": {},
   "outputs": [],
   "source": [
    "def topla(a,b):\n",
    "    return a+b"
   ]
  },
  {
   "cell_type": "code",
   "execution_count": 46,
   "metadata": {},
   "outputs": [
    {
     "data": {
      "text/plain": [
       "8"
      ]
     },
     "execution_count": 46,
     "metadata": {},
     "output_type": "execute_result"
    }
   ],
   "source": [
    "topla(3,5)\n"
   ]
  },
  {
   "cell_type": "code",
   "execution_count": 49,
   "metadata": {},
   "outputs": [],
   "source": [
    "def asal_sayi_mi(number):\n",
    "    for x in range(2,number):\n",
    "        if number % x == 0 :\n",
    "            print(\"This is composite number\")\n",
    "            print(\"The given number is divisible by:\",x)\n",
    "            break\n",
    "    else:\n",
    "        print(\"This number is prime\")"
   ]
  },
  {
   "cell_type": "code",
   "execution_count": 57,
   "metadata": {},
   "outputs": [],
   "source": [
    "def password_check():\n",
    "    sayac =0 \n",
    "    password=\"\"\n",
    "    while password !=\"techpro\" :\n",
    "        password = input(\"Enter your password\")\n",
    "        if password != \"techpro\":\n",
    "            print(\"Try again\")\n",
    "        sayac = sayac + 1\n",
    "        if sayac == 3 and password !=\"techpro\":\n",
    "            print(\"Too many attempts,Access denied \")\n",
    "            break\n",
    "        elif password==\"techpro\":\n",
    "            print(\"Welcome!\")\n",
    "            break"
   ]
  },
  {
   "cell_type": "code",
   "execution_count": 58,
   "metadata": {},
   "outputs": [
    {
     "name": "stdout",
     "output_type": "stream",
     "text": [
      "Try again\n",
      "Try again\n",
      "Try again\n",
      "Too many attempts,Access denied \n"
     ]
    }
   ],
   "source": [
    "password_check()"
   ]
  },
  {
   "cell_type": "code",
   "execution_count": 60,
   "metadata": {},
   "outputs": [],
   "source": [
    "def Multiplication_table(x,y):\n",
    "    for x in range(1,x+1):\n",
    "        for y in range(1,y+1):\n",
    "            print(x*y, end='\\t')\n",
    "        print(\"Multiples of\",x ,end=\"\\n\")\n",
    "    print(\"Your task is done\")"
   ]
  },
  {
   "cell_type": "code",
   "execution_count": 62,
   "metadata": {},
   "outputs": [
    {
     "name": "stdout",
     "output_type": "stream",
     "text": [
      "1\t2\t3\t4\t5\t6\t7\t8\t9\tMultiples of 1\n",
      "2\t4\t6\t8\t10\t12\t14\t16\t18\tMultiples of 2\n",
      "3\t6\t9\t12\t15\t18\t21\t24\t27\tMultiples of 3\n",
      "4\t8\t12\t16\t20\t24\t28\t32\t36\tMultiples of 4\n",
      "5\t10\t15\t20\t25\t30\t35\t40\t45\tMultiples of 5\n",
      "6\t12\t18\t24\t30\t36\t42\t48\t54\tMultiples of 6\n",
      "7\t14\t21\t28\t35\t42\t49\t56\t63\tMultiples of 7\n",
      "8\t16\t24\t32\t40\t48\t56\t64\t72\tMultiples of 8\n",
      "9\t18\t27\t36\t45\t54\t63\t72\t81\tMultiples of 9\n",
      "10\t20\t30\t40\t50\t60\t70\t80\t90\tMultiples of 10\n",
      "Your task is done\n"
     ]
    }
   ],
   "source": [
    "Multiplication_table(10,9)"
   ]
  },
  {
   "cell_type": "code",
   "execution_count": null,
   "metadata": {},
   "outputs": [],
   "source": []
  },
  {
   "cell_type": "code",
   "execution_count": null,
   "metadata": {},
   "outputs": [],
   "source": []
  },
  {
   "cell_type": "code",
   "execution_count": null,
   "metadata": {},
   "outputs": [],
   "source": []
  }
 ],
 "metadata": {
  "kernelspec": {
   "display_name": "Python 3",
   "language": "python",
   "name": "python3"
  },
  "language_info": {
   "codemirror_mode": {
    "name": "ipython",
    "version": 3
   },
   "file_extension": ".py",
   "mimetype": "text/x-python",
   "name": "python",
   "nbconvert_exporter": "python",
   "pygments_lexer": "ipython3",
   "version": "3.11.4"
  },
  "orig_nbformat": 4
 },
 "nbformat": 4,
 "nbformat_minor": 2
}
